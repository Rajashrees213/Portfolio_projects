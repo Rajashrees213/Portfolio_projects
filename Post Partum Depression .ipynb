{
 "cells": [
  {
   "cell_type": "code",
   "execution_count": 54,
   "id": "388530f3-6d56-42c6-a28f-e26bd6484950",
   "metadata": {},
   "outputs": [],
   "source": [
    "import pandas as pd\n",
    "import numpy as np \n",
    "from sklearn.ensemble import RandomForestClassifier\n",
    "from sklearn.model_selection import train_test_split \n",
    "from sklearn.preprocessing import LabelEncoder"
   ]
  },
  {
   "cell_type": "code",
   "execution_count": 55,
   "id": "053edd48-0b37-4995-9b86-a5b11fc3ccc9",
   "metadata": {},
   "outputs": [],
   "source": [
    "df = pd.read_csv(\"/Users/rajashree/Downloads/post natal data.csv\")"
   ]
  },
  {
   "cell_type": "code",
   "execution_count": 56,
   "id": "3c943377-6ab7-414c-9eb0-a226f9dbd8e5",
   "metadata": {},
   "outputs": [
    {
     "data": {
      "text/html": [
       "<div>\n",
       "<style scoped>\n",
       "    .dataframe tbody tr th:only-of-type {\n",
       "        vertical-align: middle;\n",
       "    }\n",
       "\n",
       "    .dataframe tbody tr th {\n",
       "        vertical-align: top;\n",
       "    }\n",
       "\n",
       "    .dataframe thead th {\n",
       "        text-align: right;\n",
       "    }\n",
       "</style>\n",
       "<table border=\"1\" class=\"dataframe\">\n",
       "  <thead>\n",
       "    <tr style=\"text-align: right;\">\n",
       "      <th></th>\n",
       "      <th>Timestamp</th>\n",
       "      <th>Age</th>\n",
       "      <th>Feeling sad or Tearful</th>\n",
       "      <th>Irritable towards baby &amp; partner</th>\n",
       "      <th>Trouble sleeping at night</th>\n",
       "      <th>Problems concentrating or making decision</th>\n",
       "      <th>Overeating or loss of appetite</th>\n",
       "      <th>Feeling anxious</th>\n",
       "      <th>Feeling of guilt</th>\n",
       "      <th>Problems of bonding with baby</th>\n",
       "      <th>Suicide attempt</th>\n",
       "    </tr>\n",
       "  </thead>\n",
       "  <tbody>\n",
       "    <tr>\n",
       "      <th>0</th>\n",
       "      <td>6/14/2022 20:02</td>\n",
       "      <td>35-40</td>\n",
       "      <td>Yes</td>\n",
       "      <td>Yes</td>\n",
       "      <td>Two or more days a week</td>\n",
       "      <td>Yes</td>\n",
       "      <td>Yes</td>\n",
       "      <td>Yes</td>\n",
       "      <td>No</td>\n",
       "      <td>Yes</td>\n",
       "      <td>Yes</td>\n",
       "    </tr>\n",
       "    <tr>\n",
       "      <th>1</th>\n",
       "      <td>6/14/2022 20:03</td>\n",
       "      <td>40-45</td>\n",
       "      <td>Yes</td>\n",
       "      <td>No</td>\n",
       "      <td>No</td>\n",
       "      <td>Yes</td>\n",
       "      <td>Yes</td>\n",
       "      <td>No</td>\n",
       "      <td>Yes</td>\n",
       "      <td>Yes</td>\n",
       "      <td>No</td>\n",
       "    </tr>\n",
       "    <tr>\n",
       "      <th>2</th>\n",
       "      <td>6/14/2022 20:04</td>\n",
       "      <td>35-40</td>\n",
       "      <td>Yes</td>\n",
       "      <td>No</td>\n",
       "      <td>Yes</td>\n",
       "      <td>Yes</td>\n",
       "      <td>Yes</td>\n",
       "      <td>Yes</td>\n",
       "      <td>No</td>\n",
       "      <td>Sometimes</td>\n",
       "      <td>No</td>\n",
       "    </tr>\n",
       "    <tr>\n",
       "      <th>3</th>\n",
       "      <td>6/14/2022 20:05</td>\n",
       "      <td>35-40</td>\n",
       "      <td>Yes</td>\n",
       "      <td>Yes</td>\n",
       "      <td>Yes</td>\n",
       "      <td>Yes</td>\n",
       "      <td>No</td>\n",
       "      <td>Yes</td>\n",
       "      <td>Maybe</td>\n",
       "      <td>No</td>\n",
       "      <td>No</td>\n",
       "    </tr>\n",
       "    <tr>\n",
       "      <th>4</th>\n",
       "      <td>6/14/2022 20:06</td>\n",
       "      <td>40-45</td>\n",
       "      <td>Yes</td>\n",
       "      <td>No</td>\n",
       "      <td>Two or more days a week</td>\n",
       "      <td>Yes</td>\n",
       "      <td>No</td>\n",
       "      <td>Yes</td>\n",
       "      <td>No</td>\n",
       "      <td>Yes</td>\n",
       "      <td>No</td>\n",
       "    </tr>\n",
       "  </tbody>\n",
       "</table>\n",
       "</div>"
      ],
      "text/plain": [
       "         Timestamp    Age Feeling sad or Tearful  \\\n",
       "0  6/14/2022 20:02  35-40                    Yes   \n",
       "1  6/14/2022 20:03  40-45                    Yes   \n",
       "2  6/14/2022 20:04  35-40                    Yes   \n",
       "3  6/14/2022 20:05  35-40                    Yes   \n",
       "4  6/14/2022 20:06  40-45                    Yes   \n",
       "\n",
       "  Irritable towards baby & partner Trouble sleeping at night  \\\n",
       "0                              Yes   Two or more days a week   \n",
       "1                               No                        No   \n",
       "2                               No                       Yes   \n",
       "3                              Yes                       Yes   \n",
       "4                               No   Two or more days a week   \n",
       "\n",
       "  Problems concentrating or making decision Overeating or loss of appetite  \\\n",
       "0                                       Yes                            Yes   \n",
       "1                                       Yes                            Yes   \n",
       "2                                       Yes                            Yes   \n",
       "3                                       Yes                             No   \n",
       "4                                       Yes                             No   \n",
       "\n",
       "  Feeling anxious Feeling of guilt Problems of bonding with baby  \\\n",
       "0             Yes               No                           Yes   \n",
       "1              No              Yes                           Yes   \n",
       "2             Yes               No                     Sometimes   \n",
       "3             Yes            Maybe                            No   \n",
       "4             Yes               No                           Yes   \n",
       "\n",
       "  Suicide attempt  \n",
       "0             Yes  \n",
       "1              No  \n",
       "2              No  \n",
       "3              No  \n",
       "4              No  "
      ]
     },
     "execution_count": 56,
     "metadata": {},
     "output_type": "execute_result"
    }
   ],
   "source": [
    "df.head()"
   ]
  },
  {
   "cell_type": "code",
   "execution_count": 57,
   "id": "604c264a-bcd5-49cb-b450-aa6b356facfe",
   "metadata": {},
   "outputs": [
    {
     "data": {
      "text/plain": [
       "Index(['Timestamp', 'Age', 'Feeling sad or Tearful',\n",
       "       'Irritable towards baby & partner', 'Trouble sleeping at night',\n",
       "       'Problems concentrating or making decision',\n",
       "       'Overeating or loss of appetite', 'Feeling anxious', 'Feeling of guilt',\n",
       "       'Problems of bonding with baby', 'Suicide attempt'],\n",
       "      dtype='object')"
      ]
     },
     "execution_count": 57,
     "metadata": {},
     "output_type": "execute_result"
    }
   ],
   "source": [
    "df.columns"
   ]
  },
  {
   "cell_type": "code",
   "execution_count": 58,
   "id": "e5674dfd-6c27-42d8-9139-d88cf6aab0bf",
   "metadata": {},
   "outputs": [
    {
     "data": {
      "text/plain": [
       "Problems of bonding with baby\n",
       "No           557\n",
       "Sometimes    542\n",
       "Yes          404\n",
       "Name: count, dtype: int64"
      ]
     },
     "execution_count": 58,
     "metadata": {},
     "output_type": "execute_result"
    }
   ],
   "source": [
    "df[\"Problems of bonding with baby\"].value_counts()"
   ]
  },
  {
   "cell_type": "code",
   "execution_count": 59,
   "id": "e0fd6325-9d18-4c95-a6db-f5784b9d53a8",
   "metadata": {},
   "outputs": [
    {
     "data": {
      "text/plain": [
       "Suicide attempt\n",
       "No                       709\n",
       "Yes                      459\n",
       "Not interested to say    335\n",
       "Name: count, dtype: int64"
      ]
     },
     "execution_count": 59,
     "metadata": {},
     "output_type": "execute_result"
    }
   ],
   "source": [
    "df[\"Suicide attempt\"].value_counts()"
   ]
  },
  {
   "cell_type": "code",
   "execution_count": 60,
   "id": "9936150b-395d-47cf-b4cd-f05e970691a7",
   "metadata": {},
   "outputs": [
    {
     "data": {
      "text/plain": [
       "Timestamp                                     0\n",
       "Age                                           0\n",
       "Feeling sad or Tearful                        0\n",
       "Irritable towards baby & partner              6\n",
       "Trouble sleeping at night                     0\n",
       "Problems concentrating or making decision    12\n",
       "Overeating or loss of appetite                0\n",
       "Feeling anxious                               0\n",
       "Feeling of guilt                              9\n",
       "Problems of bonding with baby                 0\n",
       "Suicide attempt                               0\n",
       "dtype: int64"
      ]
     },
     "execution_count": 60,
     "metadata": {},
     "output_type": "execute_result"
    }
   ],
   "source": [
    "df.isna().sum()"
   ]
  },
  {
   "cell_type": "code",
   "execution_count": 61,
   "id": "07bf7f56-88a9-4a3b-b27f-0f46d1b0169f",
   "metadata": {},
   "outputs": [
    {
     "data": {
      "text/html": [
       "<div>\n",
       "<style scoped>\n",
       "    .dataframe tbody tr th:only-of-type {\n",
       "        vertical-align: middle;\n",
       "    }\n",
       "\n",
       "    .dataframe tbody tr th {\n",
       "        vertical-align: top;\n",
       "    }\n",
       "\n",
       "    .dataframe thead th {\n",
       "        text-align: right;\n",
       "    }\n",
       "</style>\n",
       "<table border=\"1\" class=\"dataframe\">\n",
       "  <thead>\n",
       "    <tr style=\"text-align: right;\">\n",
       "      <th></th>\n",
       "      <th>Timestamp</th>\n",
       "      <th>Age</th>\n",
       "      <th>Feeling sad or Tearful</th>\n",
       "      <th>Irritable towards baby &amp; partner</th>\n",
       "      <th>Trouble sleeping at night</th>\n",
       "      <th>Problems concentrating or making decision</th>\n",
       "      <th>Overeating or loss of appetite</th>\n",
       "      <th>Feeling anxious</th>\n",
       "      <th>Feeling of guilt</th>\n",
       "      <th>Problems of bonding with baby</th>\n",
       "      <th>Suicide attempt</th>\n",
       "    </tr>\n",
       "  </thead>\n",
       "  <tbody>\n",
       "    <tr>\n",
       "      <th>count</th>\n",
       "      <td>1503</td>\n",
       "      <td>1503</td>\n",
       "      <td>1503</td>\n",
       "      <td>1497</td>\n",
       "      <td>1503</td>\n",
       "      <td>1491</td>\n",
       "      <td>1503</td>\n",
       "      <td>1503</td>\n",
       "      <td>1494</td>\n",
       "      <td>1503</td>\n",
       "      <td>1503</td>\n",
       "    </tr>\n",
       "    <tr>\n",
       "      <th>unique</th>\n",
       "      <td>90</td>\n",
       "      <td>5</td>\n",
       "      <td>3</td>\n",
       "      <td>3</td>\n",
       "      <td>3</td>\n",
       "      <td>3</td>\n",
       "      <td>3</td>\n",
       "      <td>2</td>\n",
       "      <td>3</td>\n",
       "      <td>3</td>\n",
       "      <td>3</td>\n",
       "    </tr>\n",
       "    <tr>\n",
       "      <th>top</th>\n",
       "      <td>6/15/2022 22:24</td>\n",
       "      <td>40-45</td>\n",
       "      <td>Yes</td>\n",
       "      <td>Yes</td>\n",
       "      <td>Two or more days a week</td>\n",
       "      <td>No</td>\n",
       "      <td>No</td>\n",
       "      <td>Yes</td>\n",
       "      <td>No</td>\n",
       "      <td>No</td>\n",
       "      <td>No</td>\n",
       "    </tr>\n",
       "    <tr>\n",
       "      <th>freq</th>\n",
       "      <td>51</td>\n",
       "      <td>364</td>\n",
       "      <td>536</td>\n",
       "      <td>555</td>\n",
       "      <td>640</td>\n",
       "      <td>583</td>\n",
       "      <td>841</td>\n",
       "      <td>980</td>\n",
       "      <td>624</td>\n",
       "      <td>557</td>\n",
       "      <td>709</td>\n",
       "    </tr>\n",
       "  </tbody>\n",
       "</table>\n",
       "</div>"
      ],
      "text/plain": [
       "              Timestamp    Age Feeling sad or Tearful  \\\n",
       "count              1503   1503                   1503   \n",
       "unique               90      5                      3   \n",
       "top     6/15/2022 22:24  40-45                    Yes   \n",
       "freq                 51    364                    536   \n",
       "\n",
       "       Irritable towards baby & partner Trouble sleeping at night  \\\n",
       "count                              1497                      1503   \n",
       "unique                                3                         3   \n",
       "top                                 Yes   Two or more days a week   \n",
       "freq                                555                       640   \n",
       "\n",
       "       Problems concentrating or making decision  \\\n",
       "count                                       1491   \n",
       "unique                                         3   \n",
       "top                                           No   \n",
       "freq                                         583   \n",
       "\n",
       "       Overeating or loss of appetite Feeling anxious Feeling of guilt  \\\n",
       "count                            1503            1503             1494   \n",
       "unique                              3               2                3   \n",
       "top                                No             Yes               No   \n",
       "freq                              841             980              624   \n",
       "\n",
       "       Problems of bonding with baby Suicide attempt  \n",
       "count                           1503            1503  \n",
       "unique                             3               3  \n",
       "top                               No              No  \n",
       "freq                             557             709  "
      ]
     },
     "execution_count": 61,
     "metadata": {},
     "output_type": "execute_result"
    }
   ],
   "source": [
    "df.describe()"
   ]
  },
  {
   "cell_type": "code",
   "execution_count": 62,
   "id": "8e895bd2-7ff5-4c62-b3d8-3179eb779a87",
   "metadata": {},
   "outputs": [],
   "source": [
    "df[\" Problems concentrating or making decision \"] = df[\"Problems concentrating or making decision\"].fillna(df[\"Problems concentrating or making decision\"].mode()[0], inplace = True)"
   ]
  },
  {
   "cell_type": "code",
   "execution_count": 63,
   "id": "9631b843-a22d-44ee-82ab-1afeecf09994",
   "metadata": {},
   "outputs": [
    {
     "data": {
      "text/plain": [
       "0"
      ]
     },
     "execution_count": 63,
     "metadata": {},
     "output_type": "execute_result"
    }
   ],
   "source": [
    "df[\"Problems concentrating or making decision\"].isna().sum()"
   ]
  },
  {
   "cell_type": "code",
   "execution_count": 76,
   "id": "e5a0a7da-7ba7-4e77-8cd2-50873486929c",
   "metadata": {},
   "outputs": [],
   "source": [
    "# encoding categorical variable \n",
    "Le= LabelEncoder()\n",
    "for column in df.columns:\n",
    "    df[column]=Le.fit_transform(df[column].astype(str))"
   ]
  },
  {
   "cell_type": "code",
   "execution_count": 77,
   "id": "950aac4b-b8f2-41c9-af39-7b9046737d75",
   "metadata": {},
   "outputs": [
    {
     "data": {
      "text/plain": [
       "Suicide attempt\n",
       "0    709\n",
       "2    459\n",
       "1    335\n",
       "Name: count, dtype: int64"
      ]
     },
     "execution_count": 77,
     "metadata": {},
     "output_type": "execute_result"
    }
   ],
   "source": [
    "df[\"Suicide attempt\"].value_counts()\n"
   ]
  },
  {
   "cell_type": "code",
   "execution_count": 65,
   "id": "ab5b92c1-fe6d-426a-b7f5-c4e7218601ec",
   "metadata": {},
   "outputs": [],
   "source": [
    "X = df.drop(\"Suicide attempt\" , axis = 1)\n",
    "y = df[\"Suicide attempt\"]"
   ]
  },
  {
   "cell_type": "code",
   "execution_count": 66,
   "id": "ad1fe3b5-345c-42cb-ba10-af033c5a973b",
   "metadata": {},
   "outputs": [],
   "source": [
    "X_train, X_test , y_train , y_test = train_test_split (X, y , test_size = 0.3, random_state = 42)"
   ]
  },
  {
   "cell_type": "code",
   "execution_count": null,
   "id": "7c51c8f2-b1a5-4ddf-ad1b-f90ea013f20b",
   "metadata": {},
   "outputs": [],
   "source": []
  },
  {
   "cell_type": "code",
   "execution_count": 67,
   "id": "111354b6-f45c-4cb8-ba90-82932aa7edf3",
   "metadata": {},
   "outputs": [
    {
     "data": {
      "text/html": [
       "<style>#sk-container-id-2 {color: black;background-color: white;}#sk-container-id-2 pre{padding: 0;}#sk-container-id-2 div.sk-toggleable {background-color: white;}#sk-container-id-2 label.sk-toggleable__label {cursor: pointer;display: block;width: 100%;margin-bottom: 0;padding: 0.3em;box-sizing: border-box;text-align: center;}#sk-container-id-2 label.sk-toggleable__label-arrow:before {content: \"▸\";float: left;margin-right: 0.25em;color: #696969;}#sk-container-id-2 label.sk-toggleable__label-arrow:hover:before {color: black;}#sk-container-id-2 div.sk-estimator:hover label.sk-toggleable__label-arrow:before {color: black;}#sk-container-id-2 div.sk-toggleable__content {max-height: 0;max-width: 0;overflow: hidden;text-align: left;background-color: #f0f8ff;}#sk-container-id-2 div.sk-toggleable__content pre {margin: 0.2em;color: black;border-radius: 0.25em;background-color: #f0f8ff;}#sk-container-id-2 input.sk-toggleable__control:checked~div.sk-toggleable__content {max-height: 200px;max-width: 100%;overflow: auto;}#sk-container-id-2 input.sk-toggleable__control:checked~label.sk-toggleable__label-arrow:before {content: \"▾\";}#sk-container-id-2 div.sk-estimator input.sk-toggleable__control:checked~label.sk-toggleable__label {background-color: #d4ebff;}#sk-container-id-2 div.sk-label input.sk-toggleable__control:checked~label.sk-toggleable__label {background-color: #d4ebff;}#sk-container-id-2 input.sk-hidden--visually {border: 0;clip: rect(1px 1px 1px 1px);clip: rect(1px, 1px, 1px, 1px);height: 1px;margin: -1px;overflow: hidden;padding: 0;position: absolute;width: 1px;}#sk-container-id-2 div.sk-estimator {font-family: monospace;background-color: #f0f8ff;border: 1px dotted black;border-radius: 0.25em;box-sizing: border-box;margin-bottom: 0.5em;}#sk-container-id-2 div.sk-estimator:hover {background-color: #d4ebff;}#sk-container-id-2 div.sk-parallel-item::after {content: \"\";width: 100%;border-bottom: 1px solid gray;flex-grow: 1;}#sk-container-id-2 div.sk-label:hover label.sk-toggleable__label {background-color: #d4ebff;}#sk-container-id-2 div.sk-serial::before {content: \"\";position: absolute;border-left: 1px solid gray;box-sizing: border-box;top: 0;bottom: 0;left: 50%;z-index: 0;}#sk-container-id-2 div.sk-serial {display: flex;flex-direction: column;align-items: center;background-color: white;padding-right: 0.2em;padding-left: 0.2em;position: relative;}#sk-container-id-2 div.sk-item {position: relative;z-index: 1;}#sk-container-id-2 div.sk-parallel {display: flex;align-items: stretch;justify-content: center;background-color: white;position: relative;}#sk-container-id-2 div.sk-item::before, #sk-container-id-2 div.sk-parallel-item::before {content: \"\";position: absolute;border-left: 1px solid gray;box-sizing: border-box;top: 0;bottom: 0;left: 50%;z-index: -1;}#sk-container-id-2 div.sk-parallel-item {display: flex;flex-direction: column;z-index: 1;position: relative;background-color: white;}#sk-container-id-2 div.sk-parallel-item:first-child::after {align-self: flex-end;width: 50%;}#sk-container-id-2 div.sk-parallel-item:last-child::after {align-self: flex-start;width: 50%;}#sk-container-id-2 div.sk-parallel-item:only-child::after {width: 0;}#sk-container-id-2 div.sk-dashed-wrapped {border: 1px dashed gray;margin: 0 0.4em 0.5em 0.4em;box-sizing: border-box;padding-bottom: 0.4em;background-color: white;}#sk-container-id-2 div.sk-label label {font-family: monospace;font-weight: bold;display: inline-block;line-height: 1.2em;}#sk-container-id-2 div.sk-label-container {text-align: center;}#sk-container-id-2 div.sk-container {/* jupyter's `normalize.less` sets `[hidden] { display: none; }` but bootstrap.min.css set `[hidden] { display: none !important; }` so we also need the `!important` here to be able to override the default hidden behavior on the sphinx rendered scikit-learn.org. See: https://github.com/scikit-learn/scikit-learn/issues/21755 */display: inline-block !important;position: relative;}#sk-container-id-2 div.sk-text-repr-fallback {display: none;}</style><div id=\"sk-container-id-2\" class=\"sk-top-container\"><div class=\"sk-text-repr-fallback\"><pre>RandomForestClassifier(random_state=42)</pre><b>In a Jupyter environment, please rerun this cell to show the HTML representation or trust the notebook. <br />On GitHub, the HTML representation is unable to render, please try loading this page with nbviewer.org.</b></div><div class=\"sk-container\" hidden><div class=\"sk-item\"><div class=\"sk-estimator sk-toggleable\"><input class=\"sk-toggleable__control sk-hidden--visually\" id=\"sk-estimator-id-2\" type=\"checkbox\" checked><label for=\"sk-estimator-id-2\" class=\"sk-toggleable__label sk-toggleable__label-arrow\">RandomForestClassifier</label><div class=\"sk-toggleable__content\"><pre>RandomForestClassifier(random_state=42)</pre></div></div></div></div></div>"
      ],
      "text/plain": [
       "RandomForestClassifier(random_state=42)"
      ]
     },
     "execution_count": 67,
     "metadata": {},
     "output_type": "execute_result"
    }
   ],
   "source": [
    "# train the model\n",
    "model = RandomForestClassifier(n_estimators=100, random_state=42)\n",
    "model.fit(X_train, y_train)"
   ]
  },
  {
   "cell_type": "code",
   "execution_count": 68,
   "id": "9b0ddb42-2257-4471-9414-c3f88c7176aa",
   "metadata": {},
   "outputs": [],
   "source": [
    "y_pred = model.predict(X_test)"
   ]
  },
  {
   "cell_type": "code",
   "execution_count": null,
   "id": "eb6155b9-f9aa-40b6-96c0-d7fc4a363149",
   "metadata": {},
   "outputs": [],
   "source": []
  },
  {
   "cell_type": "code",
   "execution_count": 69,
   "id": "81e78c7f-f484-43b1-8d7d-de391fef6f7e",
   "metadata": {},
   "outputs": [],
   "source": [
    "from sklearn.metrics import accuracy_score\n",
    "from sklearn.metrics import confusion_matrix\n",
    "from sklearn.metrics import classification_report "
   ]
  },
  {
   "cell_type": "code",
   "execution_count": null,
   "id": "fcb9dd30-44b1-4694-bca1-e60a922cfc02",
   "metadata": {},
   "outputs": [],
   "source": []
  },
  {
   "cell_type": "code",
   "execution_count": 70,
   "id": "c0dda295-3ec9-4e2c-bd00-bf32ee85fd27",
   "metadata": {},
   "outputs": [
    {
     "data": {
      "text/plain": [
       "0.9645232815964523"
      ]
     },
     "execution_count": 70,
     "metadata": {},
     "output_type": "execute_result"
    }
   ],
   "source": [
    "accuracy = accuracy_score(y_test , y_pred)\n",
    "accuracy"
   ]
  },
  {
   "cell_type": "code",
   "execution_count": 71,
   "id": "9f58dbac-c2b9-47bc-a0de-0058d2f9c408",
   "metadata": {},
   "outputs": [
    {
     "data": {
      "text/plain": [
       "array([[204,   0,   4],\n",
       "       [  2,  90,   6],\n",
       "       [  4,   0, 141]])"
      ]
     },
     "execution_count": 71,
     "metadata": {},
     "output_type": "execute_result"
    }
   ],
   "source": [
    "cm = confusion_matrix(y_test, y_pred)\n",
    "cm"
   ]
  },
  {
   "cell_type": "code",
   "execution_count": 72,
   "id": "e7c79c8d-614c-4e3a-ae65-561c8307845d",
   "metadata": {},
   "outputs": [],
   "source": [
    "import seaborn as sns \n",
    "import matplotlib.pyplot as plt "
   ]
  },
  {
   "cell_type": "code",
   "execution_count": 73,
   "id": "a8084f08-45bc-414c-b4af-818b7e4439c2",
   "metadata": {},
   "outputs": [
    {
     "data": {
      "image/png": "[encoded data removed]",
      "text/plain": [
       "<Figure size 640x480 with 2 Axes>"
      ]
     },
     "metadata": {},
     "output_type": "display_data"
    }
   ],
   "source": [
    "sns.heatmap(cm, annot = True)\n",
    "plt.show()"
   ]
  },
  {
   "cell_type": "code",
   "execution_count": 74,
   "id": "ddded36d-2360-4253-bc37-8f889482e19d",
   "metadata": {},
   "outputs": [
    {
     "data": {
      "text/plain": [
       "<sklearn.metrics._plot.confusion_matrix.ConfusionMatrixDisplay at 0x144a25210>"
      ]
     },
     "execution_count": 74,
     "metadata": {},
     "output_type": "execute_result"
    },
    {
     "data": {
      "image/png": "[encoded data removed]",
      "text/plain": [
       "<Figure size 640x480 with 2 Axes>"
      ]
     },
     "metadata": {},
     "output_type": "display_data"
    }
   ],
   "source": [
    "from sklearn import metrics\n",
    "\n",
    "cm = metrics.confusion_matrix(y_test, y_pred)\n",
    "Display = metrics.ConfusionMatrixDisplay(cm, display_labels=model.classes_)\n",
    "Display.plot()"
   ]
  },
  {
   "cell_type": "code",
   "execution_count": 75,
   "id": "d93e0308-9df8-4cbb-99ce-f1ed472de635",
   "metadata": {},
   "outputs": [
    {
     "data": {
      "text/plain": [
       "Suicide attempt\n",
       "0    709\n",
       "2    459\n",
       "1    335\n",
       "Name: count, dtype: int64"
      ]
     },
     "execution_count": 75,
     "metadata": {},
     "output_type": "execute_result"
    }
   ],
   "source": [
    "df[\"Suicide attempt\"].value_counts()\n"
   ]
  },
  {
   "cell_type": "code",
   "execution_count": 78,
   "id": "6a7ea3ed-bc64-4944-b60b-af22bf44f4ce",
   "metadata": {},
   "outputs": [
    {
     "data": {
      "text/plain": [
       "<sklearn.metrics._plot.confusion_matrix.ConfusionMatrixDisplay at 0x144a23c50>"
      ]
     },
     "execution_count": 78,
     "metadata": {},
     "output_type": "execute_result"
    },
    {
     "data": {
      "image/png": "[encoded data removed]",
      "text/plain": [
       "<Figure size 640x480 with 2 Axes>"
      ]
     },
     "metadata": {},
     "output_type": "display_data"
    }
   ],
   "source": [
    "from sklearn import metrics\n",
    "\n",
    "cm = metrics.confusion_matrix(y_test, y_pred)\n",
    "Display = metrics.ConfusionMatrixDisplay(cm)\n",
    "Display.plot()"
   ]
  },
  {
   "cell_type": "code",
   "execution_count": null,
   "id": "79330f72-3a4c-467f-a7b5-f2ec0c0c3e17",
   "metadata": {},
   "outputs": [],
   "source": []
  },
  {
   "cell_type": "code",
   "execution_count": null,
   "id": "dc5eb756-fc7e-42d3-9fc0-195f87f7ea01",
   "metadata": {},
   "outputs": [],
   "source": []
  },
  {
   "cell_type": "code",
   "execution_count": null,
   "id": "3667cd80-5385-47de-b096-ec892200f655",
   "metadata": {},
   "outputs": [],
   "source": []
  },
  {
   "cell_type": "code",
   "execution_count": null,
   "id": "721e4bb7-a967-4cc7-b1ae-84a22d2093cf",
   "metadata": {},
   "outputs": [],
   "source": []
  },
  {
   "cell_type": "code",
   "execution_count": null,
   "id": "3fe282e5-87fe-4e76-9249-12e5dfec3e7e",
   "metadata": {},
   "outputs": [],
   "source": []
  }
 ],
 "metadata": {
  "kernelspec": {
   "display_name": "Python 3 (ipykernel)",
   "language": "python",
   "name": "python3"
  },
  "language_info": {
   "codemirror_mode": {
    "name": "ipython",
    "version": 3
   },
   "file_extension": ".py",
   "mimetype": "text/x-python",
   "name": "python",
   "nbconvert_exporter": "python",
   "pygments_lexer": "ipython3",
   "version": "3.11.7"
  }
 },
 "nbformat": 4,
 "nbformat_minor": 5
}
